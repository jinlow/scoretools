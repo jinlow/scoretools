{
 "nbformat": 4,
 "nbformat_minor": 2,
 "metadata": {
  "language_info": {
   "name": "python",
   "codemirror_mode": {
    "name": "ipython",
    "version": 3
   },
   "version": "3.8.0-final"
  },
  "orig_nbformat": 2,
  "file_extension": ".py",
  "mimetype": "text/x-python",
  "name": "python",
  "npconvert_exporter": "python",
  "pygments_lexer": "ipython3",
  "version": 3,
  "kernelspec": {
   "name": "python38064bitscrvenvvenv8ab40d8141e44531b53da31373858523",
   "display_name": "Python 3.8.0 64-bit ('scr_venv': venv)"
  }
 },
 "cells": [
  {
   "cell_type": "code",
   "execution_count": 1,
   "metadata": {},
   "outputs": [],
   "source": [
    "import pandas as pd\n",
    "import scoretools as sts\n",
    "import numpy as np\n",
    "import importlib"
   ]
  },
  {
   "cell_type": "code",
   "execution_count": 2,
   "metadata": {},
   "outputs": [],
   "source": [
    "df = pd.read_csv(\"data/score_test_dat.csv\")"
   ]
  },
  {
   "cell_type": "code",
   "execution_count": 3,
   "metadata": {},
   "outputs": [
    {
     "data": {
      "text/html": "<div>\n<style scoped>\n    .dataframe tbody tr th:only-of-type {\n        vertical-align: middle;\n    }\n\n    .dataframe tbody tr th {\n        vertical-align: top;\n    }\n\n    .dataframe thead th {\n        text-align: right;\n    }\n</style>\n<table border=\"1\" class=\"dataframe\">\n  <thead>\n    <tr style=\"text-align: right;\">\n      <th></th>\n      <th>Survived</th>\n      <th>Pclass</th>\n      <th>Sex</th>\n      <th>Age</th>\n      <th>SibSp</th>\n      <th>Parch</th>\n      <th>Fare</th>\n      <th>Cabin</th>\n      <th>Embarked</th>\n      <th>Survived2</th>\n      <th>scr1</th>\n      <th>scr2</th>\n    </tr>\n  </thead>\n  <tbody>\n    <tr>\n      <th>0</th>\n      <td>0</td>\n      <td>3</td>\n      <td>1</td>\n      <td>22.0</td>\n      <td>1</td>\n      <td>0</td>\n      <td>7.2500</td>\n      <td>2.0</td>\n      <td>2.0</td>\n      <td>0</td>\n      <td>997</td>\n      <td>984</td>\n    </tr>\n    <tr>\n      <th>1</th>\n      <td>1</td>\n      <td>1</td>\n      <td>0</td>\n      <td>38.0</td>\n      <td>1</td>\n      <td>0</td>\n      <td>71.2833</td>\n      <td>2.0</td>\n      <td>0.0</td>\n      <td>1</td>\n      <td>678</td>\n      <td>539</td>\n    </tr>\n    <tr>\n      <th>2</th>\n      <td>1</td>\n      <td>3</td>\n      <td>0</td>\n      <td>26.0</td>\n      <td>0</td>\n      <td>0</td>\n      <td>7.9250</td>\n      <td>2.0</td>\n      <td>2.0</td>\n      <td>1</td>\n      <td>887</td>\n      <td>821</td>\n    </tr>\n    <tr>\n      <th>3</th>\n      <td>1</td>\n      <td>1</td>\n      <td>0</td>\n      <td>35.0</td>\n      <td>1</td>\n      <td>0</td>\n      <td>53.1000</td>\n      <td>2.0</td>\n      <td>2.0</td>\n      <td>1</td>\n      <td>824</td>\n      <td>604</td>\n    </tr>\n    <tr>\n      <th>4</th>\n      <td>0</td>\n      <td>3</td>\n      <td>1</td>\n      <td>35.0</td>\n      <td>0</td>\n      <td>0</td>\n      <td>8.0500</td>\n      <td>2.0</td>\n      <td>2.0</td>\n      <td>0</td>\n      <td>992</td>\n      <td>986</td>\n    </tr>\n  </tbody>\n</table>\n</div>",
      "text/plain": "   Survived  Pclass  Sex   Age  SibSp  Parch     Fare  Cabin  Embarked  \\\n0         0       3    1  22.0      1      0   7.2500    2.0       2.0   \n1         1       1    0  38.0      1      0  71.2833    2.0       0.0   \n2         1       3    0  26.0      0      0   7.9250    2.0       2.0   \n3         1       1    0  35.0      1      0  53.1000    2.0       2.0   \n4         0       3    1  35.0      0      0   8.0500    2.0       2.0   \n\n   Survived2  scr1  scr2  \n0          0   997   984  \n1          1   678   539  \n2          1   887   821  \n3          1   824   604  \n4          0   992   986  "
     },
     "execution_count": 3,
     "metadata": {},
     "output_type": "execute_result"
    }
   ],
   "source": [
    "df.head()"
   ]
  },
  {
   "cell_type": "code",
   "execution_count": 4,
   "metadata": {},
   "outputs": [
    {
     "data": {
      "text/plain": "(0.419, 22.0]    231\n(22.0, 30.0]     355\n(30.0, 35.0]      88\n(35.0, 80.0]     217\nName: Age, dtype: int64"
     },
     "execution_count": 4,
     "metadata": {},
     "output_type": "execute_result"
    }
   ],
   "source": [
    "sts.utils.break_methods.bins(x=df['Age'], bins=4).value_counts(sort=False)"
   ]
  },
  {
   "cell_type": "code",
   "execution_count": 5,
   "metadata": {},
   "outputs": [
    {
     "data": {
      "text/plain": "(0.999, 22.0]    224\n(22.0, 50.0]     596\n(50.0, 100.0]     64\nName: Age, dtype: int64"
     },
     "execution_count": 5,
     "metadata": {},
     "output_type": "execute_result"
    }
   ],
   "source": [
    "sts.utils.break_methods.breaks(x=df.Age, breaks=[1, 22, 50, 100]).value_counts(sort=False)"
   ]
  },
  {
   "cell_type": "code",
   "execution_count": 6,
   "metadata": {},
   "outputs": [
    {
     "data": {
      "text/plain": "(0.999, 22.0]    197\n(22.0, 30.0]     355\n(30.0, 80.0]     305\n22                27\nName: Age, dtype: int64"
     },
     "execution_count": 6,
     "metadata": {},
     "output_type": "execute_result"
    }
   ],
   "source": [
    "sts.utils.break_methods.percentile(x=df.Age, percentiles=[1, 25, 50, 100], exceptions=[22]).value_counts(sort=False)"
   ]
  },
  {
   "cell_type": "code",
   "execution_count": 7,
   "metadata": {},
   "outputs": [
    {
     "data": {
      "text/plain": "array([ 0.42,  1.  , 22.  , 30.  , 80.  ])"
     },
     "execution_count": 7,
     "metadata": {},
     "output_type": "execute_result"
    }
   ],
   "source": [
    "np.percentile(df.Age, [0, 1, 25, 50, 100])"
   ]
  },
  {
   "cell_type": "code",
   "execution_count": 8,
   "metadata": {},
   "outputs": [
    {
     "data": {
      "text/html": "<div>\n<style scoped>\n    .dataframe tbody tr th:only-of-type {\n        vertical-align: middle;\n    }\n\n    .dataframe tbody tr th {\n        vertical-align: top;\n    }\n\n    .dataframe thead th {\n        text-align: right;\n    }\n</style>\n<table border=\"1\" class=\"dataframe\">\n  <thead>\n    <tr style=\"text-align: right;\">\n      <th></th>\n      <th>Frequency</th>\n      <th>Percent</th>\n      <th>Cumulative Frequency</th>\n      <th>Cumulative Percent</th>\n    </tr>\n    <tr>\n      <th>Age</th>\n      <th></th>\n      <th></th>\n      <th></th>\n      <th></th>\n    </tr>\n  </thead>\n  <tbody>\n    <tr>\n      <th>0.42</th>\n      <td>1</td>\n      <td>0.001122</td>\n      <td>1</td>\n      <td>0.001122</td>\n    </tr>\n    <tr>\n      <th>0.67</th>\n      <td>1</td>\n      <td>0.001122</td>\n      <td>2</td>\n      <td>0.002245</td>\n    </tr>\n    <tr>\n      <th>0.75</th>\n      <td>2</td>\n      <td>0.002245</td>\n      <td>4</td>\n      <td>0.004489</td>\n    </tr>\n    <tr>\n      <th>0.83</th>\n      <td>2</td>\n      <td>0.002245</td>\n      <td>6</td>\n      <td>0.006734</td>\n    </tr>\n    <tr>\n      <th>0.92</th>\n      <td>1</td>\n      <td>0.001122</td>\n      <td>7</td>\n      <td>0.007856</td>\n    </tr>\n    <tr>\n      <th>...</th>\n      <td>...</td>\n      <td>...</td>\n      <td>...</td>\n      <td>...</td>\n    </tr>\n    <tr>\n      <th>70.00</th>\n      <td>2</td>\n      <td>0.002245</td>\n      <td>886</td>\n      <td>0.994388</td>\n    </tr>\n    <tr>\n      <th>70.50</th>\n      <td>1</td>\n      <td>0.001122</td>\n      <td>887</td>\n      <td>0.995511</td>\n    </tr>\n    <tr>\n      <th>71.00</th>\n      <td>2</td>\n      <td>0.002245</td>\n      <td>889</td>\n      <td>0.997755</td>\n    </tr>\n    <tr>\n      <th>74.00</th>\n      <td>1</td>\n      <td>0.001122</td>\n      <td>890</td>\n      <td>0.998878</td>\n    </tr>\n    <tr>\n      <th>80.00</th>\n      <td>1</td>\n      <td>0.001122</td>\n      <td>891</td>\n      <td>1.000000</td>\n    </tr>\n  </tbody>\n</table>\n<p>88 rows × 4 columns</p>\n</div>",
      "text/plain": "       Frequency   Percent  Cumulative Frequency  Cumulative Percent\nAge                                                                 \n0.42           1  0.001122                     1            0.001122\n0.67           1  0.001122                     2            0.002245\n0.75           2  0.002245                     4            0.004489\n0.83           2  0.002245                     6            0.006734\n0.92           1  0.001122                     7            0.007856\n...          ...       ...                   ...                 ...\n70.00          2  0.002245                   886            0.994388\n70.50          1  0.001122                   887            0.995511\n71.00          2  0.002245                   889            0.997755\n74.00          1  0.001122                   890            0.998878\n80.00          1  0.001122                   891            1.000000\n\n[88 rows x 4 columns]"
     },
     "execution_count": 8,
     "metadata": {},
     "output_type": "execute_result"
    }
   ],
   "source": [
    "sts.freq_tab(\"Age\", data=df)"
   ]
  },
  {
   "cell_type": "code",
   "execution_count": null,
   "metadata": {},
   "outputs": [],
   "source": []
  }
 ]
}